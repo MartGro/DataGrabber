{
 "cells": [
  {
   "cell_type": "code",
   "execution_count": 1,
   "metadata": {},
   "outputs": [
    {
     "ename": "ModuleNotFoundError",
     "evalue": "No module named 'tkfiledialog'",
     "traceback": [
      "\u001b[0;31m---------------------------------------------------------------------------\u001b[0m",
      "\u001b[0;31mModuleNotFoundError\u001b[0m                       Traceback (most recent call last)",
      "\u001b[0;32m<ipython-input-1-70b93a9940b5>\u001b[0m in \u001b[0;36m<module>\u001b[0;34m()\u001b[0m\n\u001b[1;32m      1\u001b[0m \u001b[0;32mfrom\u001b[0m \u001b[0mtkinter\u001b[0m \u001b[0;32mimport\u001b[0m \u001b[0;34m*\u001b[0m\u001b[0;34m\u001b[0m\u001b[0m\n\u001b[0;32m----> 2\u001b[0;31m \u001b[0;32mfrom\u001b[0m \u001b[0mtkfiledialog\u001b[0m \u001b[0;32mimport\u001b[0m \u001b[0maskopenfilename\u001b[0m\u001b[0;34m\u001b[0m\u001b[0m\n\u001b[0m\u001b[1;32m      3\u001b[0m \u001b[0;32mimport\u001b[0m \u001b[0mImage\u001b[0m\u001b[0;34m,\u001b[0m\u001b[0mImageTk\u001b[0m\u001b[0;34m\u001b[0m\u001b[0m\n",
      "\u001b[0;31mModuleNotFoundError\u001b[0m: No module named 'tkfiledialog'"
     ],
     "output_type": "error"
    }
   ],
   "source": [
    "from tkinter import *\n",
    "from tkfiledialog import askopenfilename\n",
    "import Image,ImageTk"
   ]
  },
  {
   "cell_type": "code",
   "execution_count": 6,
   "metadata": {},
   "outputs": [
    {
     "ename": "ModuleNotFoundError",
     "evalue": "No module named 'tkfiledialog'",
     "traceback": [
      "\u001b[0;31m---------------------------------------------------------------------------\u001b[0m",
      "\u001b[0;31mModuleNotFoundError\u001b[0m                       Traceback (most recent call last)",
      "\u001b[0;32m<ipython-input-6-70bc672b880c>\u001b[0m in \u001b[0;36m<module>\u001b[0;34m()\u001b[0m\n\u001b[0;32m----> 1\u001b[0;31m \u001b[0;32mimport\u001b[0m \u001b[0mtkfiledialog\u001b[0m\u001b[0;34m\u001b[0m\u001b[0m\n\u001b[0m",
      "\u001b[0;31mModuleNotFoundError\u001b[0m: No module named 'tkfiledialog'"
     ],
     "output_type": "error"
    }
   ],
   "source": [
    "import tkfiledialog"
   ]
  },
  {
   "cell_type": "code",
   "execution_count": null,
   "metadata": {
    "collapsed": true
   },
   "outputs": [],
   "source": [
    "import tkinter\n",
    "from tkinter.constants import *\n",
    "tk = tkinter.Tk()\n",
    "frame = tkinter.Frame(tk, relief=RIDGE, borderwidth=2)\n",
    "\n",
    "label = tkinter.Label(frame, text=\"Hello, World\")\n",
    "label.pack(fill=X, expand=1)\n",
    "canvas = tkinter.Canvas(frame,bd = 0)\n",
    "canvas.grid(row = 0, column = 0)\n",
    "frame.pack(fill=BOTH,expand=1)\n",
    "\n",
    "button = tkinter.Button(frame,text=\"Exit\",command=tk.destroy)\n",
    "button.pack(side=BOTTOM)\n",
    "tk.mainloop()\n"
   ]
  },
  {
   "cell_type": "code",
   "execution_count": 3,
   "metadata": {},
   "outputs": [
    {
     "ename": "ModuleNotFoundError",
     "evalue": "No module named 'wx'",
     "traceback": [
      "\u001b[0;31m---------------------------------------------------------------------------\u001b[0m",
      "\u001b[0;31mModuleNotFoundError\u001b[0m                       Traceback (most recent call last)",
      "\u001b[0;32m<ipython-input-3-a4829ba70cf0>\u001b[0m in \u001b[0;36m<module>\u001b[0;34m()\u001b[0m\n\u001b[0;32m----> 1\u001b[0;31m \u001b[0;32mimport\u001b[0m \u001b[0mwx\u001b[0m\u001b[0;34m\u001b[0m\u001b[0m\n\u001b[0m",
      "\u001b[0;31mModuleNotFoundError\u001b[0m: No module named 'wx'"
     ],
     "output_type": "error"
    }
   ],
   "source": [
    "import wx"
   ]
  },
  {
   "cell_type": "code",
   "execution_count": 5,
   "metadata": {},
   "outputs": [],
   "source": [
    "import tkinter\n",
    "from PIL import ImageDraw,Image,ImageTk\n",
    "import sys\n",
    "\n",
    "window = tkinter.Tk(className = \"testclass\")\n",
    "\n",
    "#image = Image.open(sys.argv[1] if len(sys.argv) >=2 else \"/home/martin/Documents/Programmieren/Python/DataGrabber/polschuh_p2_2.png\")\n",
    "image = Image.open(\"/home/martin/Documents/Programmieren/Python/DataGrabber/polschuh_p2_2.png\")\n",
    "basewidth = 1000\n",
    "wpercent = (basewidth/float(image.size[0]))\n",
    "hsize = int((float(image.size[1])*float(wpercent)))\n",
    "image = image.resize((basewidth,hsize), Image.ANTIALIAS)\n",
    "#image = image.resize((1000,800),Image.ANTIALIAS)\n",
    "canvas = tkinter.Canvas(window,width = image.size[0],height=image.size[1])\n",
    "canvas.pack()\n",
    "image_tk = ImageTk.PhotoImage(image)\n",
    "canvas.create_image(image.size[0]//2,image.size[1]//2, image = image_tk)\n",
    "\n",
    "\n",
    "\n",
    "\n",
    "def callback(event):\n",
    "    print(\"clicked at: x -> {}; y -> {}\".format(event.x,event.y))\n",
    "    \n",
    "canvas.bind(\"<Button-1>\",callback)\n",
    "tkinter.mainloop()"
   ]
  },
  {
   "cell_type": "code",
   "execution_count": 15,
   "metadata": {},
   "outputs": [
    {
     "data": {
      "text/plain": [
       "900.0"
      ]
     },
     "execution_count": 15,
     "metadata": {},
     "output_type": "execute_result"
    }
   ],
   "source": [
    "image.size[0]/2"
   ]
  },
  {
   "cell_type": "code",
   "execution_count": null,
   "metadata": {
    "collapsed": true
   },
   "outputs": [],
   "source": []
  }
 ],
 "metadata": {
  "kernelspec": {
   "display_name": "Python 3",
   "language": "python",
   "name": "python3"
  },
  "language_info": {
   "codemirror_mode": {
    "name": "ipython",
    "version": 3
   },
   "file_extension": ".py",
   "mimetype": "text/x-python",
   "name": "python",
   "nbconvert_exporter": "python",
   "pygments_lexer": "ipython3",
   "version": "3.6.1"
  }
 },
 "nbformat": 4,
 "nbformat_minor": 2
}
